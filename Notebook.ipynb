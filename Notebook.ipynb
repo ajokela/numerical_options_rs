{
 "cells": [
  {
   "cell_type": "code",
   "execution_count": 1,
   "id": "3aa408d1-60d9-4c73-b03c-22020f400e45",
   "metadata": {},
   "outputs": [],
   "source": [
    "### \"libnumerical_options_rs.so\" needs to be correctly symlinked to target/debug/libnumerical_options_rs.so\n",
    "import libnumerical_options_rs as numerical_options_rs"
   ]
  },
  {
   "cell_type": "code",
   "execution_count": 2,
   "id": "5ed75cae-efd5-4f87-b792-54ec0d4efd8b",
   "metadata": {},
   "outputs": [
    {
     "name": "stdout",
     "output_type": "stream",
     "text": [
      "Option Price: 10.0199\n",
      "Delta: 0.4998\n",
      "Gamma: 0.0133\n",
      "Theta: -0.3762\n",
      "Vega: -15.4547\n",
      "Rho: 40.3735\n"
     ]
    }
   ],
   "source": [
    "\"\"\"\n",
    "Calculate the option price and Greeks using the numerical options pricing model.\n",
    "\n",
    "Inputs:\n",
    "    s0 (float): Initial stock price\n",
    "    k (float): Strike price\n",
    "    r (float): Risk-free interest rate\n",
    "    t (float): Time to maturity (in years)\n",
    "    n (int): Number of time steps\n",
    "    pu (float): Probability of an upward movement in the stock price\n",
    "    pd (float): Probability of a downward movement in the stock price\n",
    "    div (float): Dividend yield\n",
    "    sigma (float): Volatility of the stock price\n",
    "    options_type (str): Type of option (\"call\" or \"put\")\n",
    "    is_am (bool): Whether the option is an American-style option (True) or European-style option (False)\n",
    "\n",
    "Outputs:\n",
    "    option_price (float): The calculated option price\n",
    "    delta (float): The calculated delta of the option\n",
    "    gamma (float): The calculated gamma of the option\n",
    "    theta (float): The calculated theta of the option\n",
    "    vega (float): The calculated vega of the option\n",
    "    rho (float): The calculated rho of the option\n",
    "\"\"\"\n",
    "\n",
    "s0 = 100.0\n",
    "k = 110.0\n",
    "r = 0.05\n",
    "t = 1.00\n",
    "n = 1024\n",
    "pu = 0.02\n",
    "pd = 0.02\n",
    "div = 0.0\n",
    "sigma = 0.3\n",
    "options_type = \"call\"\n",
    "is_am = True\n",
    "\n",
    "option_price, delta, gamma, theta, vega, rho = numerical_options_rs.calculate_option_price_and_greeks(\n",
    "    s0, k, r, t, n, pu, pd, div, sigma, options_type, is_am\n",
    ")\n",
    "\n",
    "print(f\"Option Price: {option_price:.4f}\")\n",
    "print(f\"Delta: {delta:.4f}\")\n",
    "print(f\"Gamma: {gamma:.4f}\")\n",
    "print(f\"Theta: {theta:.4f}\")\n",
    "print(f\"Vega: {vega:.4f}\")\n",
    "print(f\"Rho: {rho:.4f}\")"
   ]
  },
  {
   "cell_type": "code",
   "execution_count": null,
   "id": "5f2ae9af-79d7-4ca3-a6d0-866748e2181a",
   "metadata": {},
   "outputs": [],
   "source": []
  },
  {
   "cell_type": "code",
   "execution_count": null,
   "id": "b617eb9a-3d13-4428-8460-bb129f84d751",
   "metadata": {},
   "outputs": [],
   "source": []
  }
 ],
 "metadata": {
  "kernelspec": {
   "display_name": "Python 3 (ipykernel)",
   "language": "python",
   "name": "python3"
  },
  "language_info": {
   "codemirror_mode": {
    "name": "ipython",
    "version": 3
   },
   "file_extension": ".py",
   "mimetype": "text/x-python",
   "name": "python",
   "nbconvert_exporter": "python",
   "pygments_lexer": "ipython3",
   "version": "3.11.7"
  }
 },
 "nbformat": 4,
 "nbformat_minor": 5
}
